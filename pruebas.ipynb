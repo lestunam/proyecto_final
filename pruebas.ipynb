{
 "cells": [
  {
   "cell_type": "code",
   "execution_count": 15,
   "metadata": {},
   "outputs": [],
   "source": [
    "import cv2 \n",
    "import numpy as np\n",
    "import matplotlib.pyplot as plt"
   ]
  },
  {
   "cell_type": "code",
   "execution_count": 40,
   "metadata": {},
   "outputs": [
    {
     "name": "stdout",
     "output_type": "stream",
     "text": [
      "Áreas de los contornos detectados:\n",
      "Contorno 5: Área = 13226.5\n",
      "Contorno 9: Área = 6975.0\n",
      "Contorno 3: Área = 2631.5\n",
      "Contorno 8: Área = 968.0\n",
      "Contorno 4: Área = 955.5\n",
      "Contorno 1: Área = 401.0\n",
      "Contorno 0: Área = 71.5\n",
      "Contorno 6: Área = 46.0\n",
      "Contorno 7: Área = 1.0\n",
      "Contorno 2: Área = 0.0\n"
     ]
    }
   ],
   "source": [
    "# Cargar la imagen binaria\n",
    "image = cv2.imread('Erosion2.png', cv2.IMREAD_GRAYSCALE)\n",
    "\n",
    "# Detectar contornos\n",
    "contours, _ = cv2.findContours(image, cv2.RETR_EXTERNAL, cv2.CHAIN_APPROX_SIMPLE)\n",
    "\n",
    "# Crear una copia de la imagen para visualizar los contornos\n",
    "output_image = cv2.cvtColor(image, cv2.COLOR_GRAY2BGR)\n",
    "\n",
    "# Iterar sobre los contornos y calcular las áreas\n",
    "areas = []\n",
    "for i, contour in enumerate(contours):\n",
    "    area = cv2.contourArea(contour)\n",
    "    areas.append((i, area))\n",
    "    \n",
    "    # Dibujar el contorno en la imagen\n",
    "    color = (0, 255, 0)  # Verde\n",
    "    cv2.drawContours(output_image, [contour], -1, color, thickness=2)\n",
    "    \n",
    "    # Obtener el punto central para etiquetar el área\n",
    "    M = cv2.moments(contour)\n",
    "    if M[\"m00\"] != 0:\n",
    "        cx = int(M[\"m10\"] / M[\"m00\"])\n",
    "        cy = int(M[\"m01\"] / M[\"m00\"])\n",
    "    else:\n",
    "        cx, cy = 0, 0\n",
    "    \n",
    "    # Escribir el área cerca del contorno\n",
    "    cv2.putText(output_image, f\"{area:.0f}\", (cx, cy), cv2.FONT_HERSHEY_SIMPLEX, 0.5, (255, 0, 0), 1)\n",
    "\n",
    "# Ordenar y mostrar áreas\n",
    "areas.sort(key=lambda x: x[1], reverse=True)\n",
    "print(\"Areas de los contornos detectados:\")\n",
    "for idx, area in areas:\n",
    "    print(f\"Contorno {idx}: Area = {area}\")\n",
    "\n",
    "# Guardar y mostrar la imagen con los contornos y áreas\n",
    "cv2.imwrite('contornos_areas.png', output_image)\n",
    "cv2.imshow('Contornos y Areas', output_image)\n",
    "cv2.waitKey(0)\n",
    "cv2.destroyAllWindows()"
   ]
  },
  {
   "cell_type": "code",
   "execution_count": 41,
   "metadata": {},
   "outputs": [
    {
     "name": "stdout",
     "output_type": "stream",
     "text": [
      "Contorno con área cercana a 6975 encontrado. Área: 6975.0\n"
     ]
    }
   ],
   "source": [
    "# Parámetro: área del contorno deseado (ajusta este valor según tu interés)\n",
    "target_area = 6975  # Cambia este valor al área que estás buscando\n",
    "tolerance = 50  # Tolerancia para considerar un área similar\n",
    "\n",
    "# Cargar la imagen binaria\n",
    "image = cv2.imread('Erosion2.png', cv2.IMREAD_GRAYSCALE)\n",
    "\n",
    "# Detectar contornos\n",
    "contours, _ = cv2.findContours(image, cv2.RETR_EXTERNAL, cv2.CHAIN_APPROX_SIMPLE)\n",
    "\n",
    "# Crear una máscara vacía para dibujar el contorno seleccionado\n",
    "mask = np.zeros_like(image)\n",
    "\n",
    "# Variable para almacenar el contorno encontrado\n",
    "selected_contour = None\n",
    "\n",
    "# Iterar sobre los contornos y buscar el que tenga un área cercana al área deseada\n",
    "for contour in contours:\n",
    "    area = cv2.contourArea(contour)\n",
    "    if abs(area - target_area) <= tolerance:\n",
    "        selected_contour = contour\n",
    "        break\n",
    "\n",
    "# Si se encuentra un contorno, dibujarlo en la máscara\n",
    "if selected_contour is not None:\n",
    "    cv2.drawContours(mask, [selected_contour], -1, 255, thickness=cv2.FILLED)\n",
    "    print(f\"Contorno con area cercana a {target_area} encontrado. Area: {cv2.contourArea(selected_contour)}\")\n",
    "else:\n",
    "    print(f\"No se encontro ningun contorno con un area cercana a {target_area}.\")\n",
    "\n",
    "# Aplicar la máscara para conservar solo la región del contorno de interés\n",
    "result = cv2.bitwise_and(image, mask)\n",
    "\n",
    "# Guardar y mostrar la imagen resultante\n",
    "cv2.imwrite('contorno_interes.png', result)\n",
    "cv2.imshow('Contorno de Interés', result)\n",
    "cv2.waitKey(0)\n",
    "cv2.destroyAllWindows()"
   ]
  },
  {
   "cell_type": "code",
   "execution_count": 39,
   "metadata": {},
   "outputs": [
    {
     "name": "stdout",
     "output_type": "stream",
     "text": [
      "[[0.00826446 0.00826446 0.00826446 0.00826446 0.00826446 0.00826446\n",
      "  0.00826446 0.00826446 0.00826446 0.00826446 0.00826446]\n",
      " [0.00826446 0.00826446 0.00826446 0.00826446 0.00826446 0.00826446\n",
      "  0.00826446 0.00826446 0.00826446 0.00826446 0.00826446]\n",
      " [0.00826446 0.00826446 0.00826446 0.00826446 0.00826446 0.00826446\n",
      "  0.00826446 0.00826446 0.00826446 0.00826446 0.00826446]\n",
      " [0.00826446 0.00826446 0.00826446 0.00826446 0.00826446 0.00826446\n",
      "  0.00826446 0.00826446 0.00826446 0.00826446 0.00826446]\n",
      " [0.00826446 0.00826446 0.00826446 0.00826446 0.00826446 0.00826446\n",
      "  0.00826446 0.00826446 0.00826446 0.00826446 0.00826446]\n",
      " [0.00826446 0.00826446 0.00826446 0.00826446 0.00826446 0.00826446\n",
      "  0.00826446 0.00826446 0.00826446 0.00826446 0.00826446]\n",
      " [0.00826446 0.00826446 0.00826446 0.00826446 0.00826446 0.00826446\n",
      "  0.00826446 0.00826446 0.00826446 0.00826446 0.00826446]\n",
      " [0.00826446 0.00826446 0.00826446 0.00826446 0.00826446 0.00826446\n",
      "  0.00826446 0.00826446 0.00826446 0.00826446 0.00826446]\n",
      " [0.00826446 0.00826446 0.00826446 0.00826446 0.00826446 0.00826446\n",
      "  0.00826446 0.00826446 0.00826446 0.00826446 0.00826446]\n",
      " [0.00826446 0.00826446 0.00826446 0.00826446 0.00826446 0.00826446\n",
      "  0.00826446 0.00826446 0.00826446 0.00826446 0.00826446]\n",
      " [0.00826446 0.00826446 0.00826446 0.00826446 0.00826446 0.00826446\n",
      "  0.00826446 0.00826446 0.00826446 0.00826446 0.00826446]]\n"
     ]
    }
   ],
   "source": [
    "input_dir_png = \"Imagen original.png\"\n",
    "\n",
    "# Cargar la imagen\n",
    "imagen = cv2.imread(input_dir_png, cv2.IMREAD_GRAYSCALE)  # Leer en escala de grises\n",
    "\n",
    "# Definir una máscara de suavizado\n",
    "kernel = (1/(11**2))*np.ones((11,11), np.uint8)\n",
    "#kernel = cv2.getGaussianKernel(11,1)\n",
    "print(kernel)\n",
    "\n",
    "# IMagen blur\n",
    "imagen_filtrada = cv2.filter2D(imagen,-1,kernel)\n",
    "\n",
    "# Cobertir a binario\n",
    "_, imagen_binaria = cv2.threshold(imagen_filtrada, 146, 255, cv2.THRESH_BINARY)\n",
    "\n",
    "# Aplicar erosion\n",
    "erosion = cv2.erode(imagen_binaria, kernel, iterations=1)\n",
    "\n",
    "# Aplicar dilatación\n",
    "dilatacion = cv2.dilate(imagen_binaria, kernel, iterations=1)\n",
    "\n",
    "\n",
    "# Guardar imagen\n",
    "cv2.imwrite(\"Imagen original.png\",imagen)\n",
    "cv2.imwrite(\"Imagen suavizada.png\",imagen_filtrada)\n",
    "cv2.imwrite(\"Imagen binaria2.png\",imagen_binaria)\n",
    "cv2.imwrite(\"Erosion2.png\",erosion)\n",
    "cv2.imwrite(\"Dilatacion2.png\",dilatacion)\n",
    "\n",
    "\n",
    "# MOstrar imágenes\n",
    "cv2.imshow(\"Imagen original\", imagen)\n",
    "cv2.imshow(\"Imagen suavizada\", imagen_filtrada)\n",
    "cv2.imshow(\"Imagen binaria\", imagen_binaria)\n",
    "cv2.imshow(\"Erosion\",erosion)\n",
    "cv2.imshow(\"Dilatacion\",dilatacion)\n",
    "\n",
    "cv2.waitKey(0)\n",
    "cv2.destroyAllWindows()\n"
   ]
  }
 ],
 "metadata": {
  "kernelspec": {
   "display_name": "Python 3",
   "language": "python",
   "name": "python3"
  },
  "language_info": {
   "codemirror_mode": {
    "name": "ipython",
    "version": 3
   },
   "file_extension": ".py",
   "mimetype": "text/x-python",
   "name": "python",
   "nbconvert_exporter": "python",
   "pygments_lexer": "ipython3",
   "version": "3.11.4"
  }
 },
 "nbformat": 4,
 "nbformat_minor": 2
}
